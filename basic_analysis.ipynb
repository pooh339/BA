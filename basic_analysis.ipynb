{
 "cells": [
  {
   "cell_type": "code",
   "execution_count": 1,
   "id": "87fc8461",
   "metadata": {},
   "outputs": [],
   "source": [
    "import pandas as pd"
   ]
  },
  {
   "cell_type": "code",
   "execution_count": 2,
   "id": "d7d840e6",
   "metadata": {},
   "outputs": [],
   "source": [
    "data = pd.read_excel('b.xlsx',skiprows=1)"
   ]
  },
  {
   "cell_type": "code",
   "execution_count": 3,
   "id": "56c6601d",
   "metadata": {},
   "outputs": [
    {
     "name": "stdout",
     "output_type": "stream",
     "text": [
      "<class 'pandas.core.frame.DataFrame'>\n",
      "RangeIndex: 21054 entries, 0 to 21053\n",
      "Data columns (total 34 columns):\n",
      " #   Column      Non-Null Count  Dtype  \n",
      "---  ------      --------------  -----  \n",
      " 0   省份          21054 non-null  object \n",
      " 1   城市          21054 non-null  object \n",
      " 2   区县          21054 non-null  object \n",
      " 3   客资编号        21054 non-null  object \n",
      " 4   客资名称        21054 non-null  object \n",
      " 5   客资地址        21054 non-null  object \n",
      " 6   坐标经度        20355 non-null  float64\n",
      " 7   坐标纬度        20355 non-null  float64\n",
      " 8   主渠道         21054 non-null  object \n",
      " 9   销售渠道        21054 non-null  object \n",
      " 10  子渠道         21054 non-null  object \n",
      " 11  连锁名称        82 non-null     object \n",
      " 12  连锁类型        0 non-null      float64\n",
      " 13  客户状态        21054 non-null  object \n",
      " 14  是否协议客户      10341 non-null  object \n",
      " 15  协议等级        10342 non-null  object \n",
      " 16  冰柜台数        21054 non-null  int64  \n",
      " 17  整体饮料排面数     10565 non-null  object \n",
      " 18  可乐排面占比%     10565 non-null  object \n",
      " 19  整体饮料冰柜门数    10454 non-null  object \n",
      " 20  可乐冰柜排面占比%   10322 non-null  object \n",
      " 21  销售收入202310  21054 non-null  float64\n",
      " 22  销售收入202311  21054 non-null  float64\n",
      " 23  销售收入202312  21054 non-null  float64\n",
      " 24  销售收入202401  21054 non-null  float64\n",
      " 25  销售收入202402  21054 non-null  float64\n",
      " 26  销售收入202403  21054 non-null  float64\n",
      " 27  销售收入202404  21054 non-null  float64\n",
      " 28  销售收入202405  21054 non-null  float64\n",
      " 29  销售收入202406  21054 non-null  float64\n",
      " 30  销售收入202407  21054 non-null  float64\n",
      " 31  销售收入202408  21054 non-null  float64\n",
      " 32  销售收入202409  21054 non-null  float64\n",
      " 33  sum         21054 non-null  float64\n",
      "dtypes: float64(16), int64(1), object(17)\n",
      "memory usage: 5.5+ MB\n"
     ]
    }
   ],
   "source": [
    "data.info()"
   ]
  },
  {
   "cell_type": "markdown",
   "id": "620596fa",
   "metadata": {},
   "source": [
    "### 删除重复值"
   ]
  },
  {
   "cell_type": "code",
   "execution_count": 4,
   "id": "3f7aa476",
   "metadata": {},
   "outputs": [
    {
     "data": {
      "text/plain": [
       "0        False\n",
       "1        False\n",
       "2        False\n",
       "3        False\n",
       "4        False\n",
       "         ...  \n",
       "21049    False\n",
       "21050    False\n",
       "21051    False\n",
       "21052    False\n",
       "21053    False\n",
       "Length: 21054, dtype: bool"
      ]
     },
     "execution_count": 4,
     "metadata": {},
     "output_type": "execute_result"
    }
   ],
   "source": [
    "data.duplicated()"
   ]
  },
  {
   "cell_type": "markdown",
   "id": "58cd2ed5",
   "metadata": {},
   "source": [
    "### 删除sum为0的数据"
   ]
  },
  {
   "cell_type": "code",
   "execution_count": 5,
   "id": "d57296de",
   "metadata": {},
   "outputs": [],
   "source": [
    "data1=data[data['sum'] !=0]\n",
    "df=data1.dropna(subset=['sum'])"
   ]
  },
  {
   "cell_type": "code",
   "execution_count": 6,
   "id": "6546769f",
   "metadata": {},
   "outputs": [
    {
     "name": "stdout",
     "output_type": "stream",
     "text": [
      "<class 'pandas.core.frame.DataFrame'>\n",
      "Int64Index: 21054 entries, 0 to 21053\n",
      "Data columns (total 34 columns):\n",
      " #   Column      Non-Null Count  Dtype  \n",
      "---  ------      --------------  -----  \n",
      " 0   省份          21054 non-null  object \n",
      " 1   城市          21054 non-null  object \n",
      " 2   区县          21054 non-null  object \n",
      " 3   客资编号        21054 non-null  object \n",
      " 4   客资名称        21054 non-null  object \n",
      " 5   客资地址        21054 non-null  object \n",
      " 6   坐标经度        20355 non-null  float64\n",
      " 7   坐标纬度        20355 non-null  float64\n",
      " 8   主渠道         21054 non-null  object \n",
      " 9   销售渠道        21054 non-null  object \n",
      " 10  子渠道         21054 non-null  object \n",
      " 11  连锁名称        82 non-null     object \n",
      " 12  连锁类型        0 non-null      float64\n",
      " 13  客户状态        21054 non-null  object \n",
      " 14  是否协议客户      10341 non-null  object \n",
      " 15  协议等级        10342 non-null  object \n",
      " 16  冰柜台数        21054 non-null  int64  \n",
      " 17  整体饮料排面数     10565 non-null  object \n",
      " 18  可乐排面占比%     10565 non-null  object \n",
      " 19  整体饮料冰柜门数    10454 non-null  object \n",
      " 20  可乐冰柜排面占比%   10322 non-null  object \n",
      " 21  销售收入202310  21054 non-null  float64\n",
      " 22  销售收入202311  21054 non-null  float64\n",
      " 23  销售收入202312  21054 non-null  float64\n",
      " 24  销售收入202401  21054 non-null  float64\n",
      " 25  销售收入202402  21054 non-null  float64\n",
      " 26  销售收入202403  21054 non-null  float64\n",
      " 27  销售收入202404  21054 non-null  float64\n",
      " 28  销售收入202405  21054 non-null  float64\n",
      " 29  销售收入202406  21054 non-null  float64\n",
      " 30  销售收入202407  21054 non-null  float64\n",
      " 31  销售收入202408  21054 non-null  float64\n",
      " 32  销售收入202409  21054 non-null  float64\n",
      " 33  sum         21054 non-null  float64\n",
      "dtypes: float64(16), int64(1), object(17)\n",
      "memory usage: 5.6+ MB\n"
     ]
    }
   ],
   "source": [
    "df.info()"
   ]
  },
  {
   "cell_type": "markdown",
   "id": "cddb72ce",
   "metadata": {},
   "source": [
    "### 将目标列数字化"
   ]
  },
  {
   "cell_type": "code",
   "execution_count": 8,
   "id": "86603c00",
   "metadata": {},
   "outputs": [
    {
     "name": "stdout",
     "output_type": "stream",
     "text": [
      "0         0\n",
      "1         0\n",
      "2         1\n",
      "3         2\n",
      "4         3\n",
      "         ..\n",
      "21049     5\n",
      "21050    19\n",
      "21051    13\n",
      "21052    29\n",
      "21053     3\n",
      "Name: A_numeric, Length: 21054, dtype: int64\n"
     ]
    }
   ],
   "source": [
    "df['A_numeric'] = pd.factorize(df['子渠道'])[0]\n",
    "print(df['A_numeric'])"
   ]
  },
  {
   "cell_type": "markdown",
   "id": "5e9f0cdd",
   "metadata": {},
   "source": [
    "### 计算所有月份以及学习和假期月份销量均值（销售数据不为0）"
   ]
  },
  {
   "cell_type": "code",
   "execution_count": 32,
   "id": "50f3c259",
   "metadata": {},
   "outputs": [],
   "source": [
    "#所有月份计算非零列均值\n",
    "columns= df.iloc[:,21:33]\n",
    "mean_non_zero = columns.apply(lambda row: row[row != 0].mean(), axis=1)\n",
    "\n",
    "# 将均值添加到原始 DataFrame\n",
    "df['mean_non_zero'] = mean_non_zero\n",
    "\n",
    "\n",
    "# 选3-6，9-1月份列为学习月份并计算非零列的均值\n",
    "mean_non_zero_work = df.iloc[:, [21,23,24,25,26,29,30,31,32]].apply(lambda row: row[row != 0].mean(), axis=1)\n",
    "\n",
    "# 将均值添加到原始 DataFrame\n",
    "df['mean_non_zero_work'] = mean_non_zero_work\n",
    "\n",
    "#选2，7，8月份为假期月份\n",
    "mean_non_zero_holiday = df.iloc[:, [22,27,28]].apply(lambda row: row[row != 0].mean(), axis=1)\n",
    "\n",
    "# 将均值添加到原始 DataFrame\n",
    "df['mean_non_zero_holiday'] = mean_non_zero_holiday\n"
   ]
  },
  {
   "cell_type": "markdown",
   "id": "a1f2242a",
   "metadata": {},
   "source": [
    "### 求以上三列和数字化目标列的相关性"
   ]
  },
  {
   "cell_type": "code",
   "execution_count": 23,
   "id": "a3233eec",
   "metadata": {},
   "outputs": [
    {
     "name": "stdout",
     "output_type": "stream",
     "text": [
      "-0.089383549290759 -0.09861984918385025 -0.13254986029568822\n"
     ]
    }
   ],
   "source": [
    "correlation1 = df['mean_non_zero'].corr(df['A_numeric'])\n",
    "correlation2 = df['mean_non_zero_work'].corr(df['A_numeric'])\n",
    "correlation3 = df['mean_non_zero_holiday'].corr(df['A_numeric'])\n",
    "print(correlation1,correlation2,correlation3)"
   ]
  },
  {
   "cell_type": "code",
   "execution_count": null,
   "id": "aef30e06",
   "metadata": {},
   "outputs": [],
   "source": []
  },
  {
   "cell_type": "code",
   "execution_count": null,
   "id": "701f027b",
   "metadata": {},
   "outputs": [],
   "source": []
  }
 ],
 "metadata": {
  "kernelspec": {
   "display_name": "Python 3 (ipykernel)",
   "language": "python",
   "name": "python3"
  },
  "language_info": {
   "codemirror_mode": {
    "name": "ipython",
    "version": 3
   },
   "file_extension": ".py",
   "mimetype": "text/x-python",
   "name": "python",
   "nbconvert_exporter": "python",
   "pygments_lexer": "ipython3",
   "version": "3.9.13"
  }
 },
 "nbformat": 4,
 "nbformat_minor": 5
}
